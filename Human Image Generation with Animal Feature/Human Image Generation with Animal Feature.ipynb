{
  "cells": [
    {
      "cell_type": "code",
      "source": [
        "!git clone https://github.com/justinpinkney/stable-diffusion.git\n",
        "%cd stable-diffusion\n",
        "!pip install --upgrade pip\n",
        "!pip install -r requirements.txt\n",
        "\n",
        "!pip install --upgrade keras # on lambda stack we need to upgrade keras\n",
        "!pip uninstall -y torchtext # on colab we need to remove torchtext"
      ],
      "outputs": [
        {
          "output_type": "stream",
          "name": "stdout",
          "text": "fatal: destination path 'stable-diffusion' already exists and is not an empty directory.\n/mnt/batch/tasks/shared/LS_root/mounts/clusters/execinstance/code/Users/1155143473/Human Image Generation with Animal Features/stable-diffusion/stable-diffusion\nRequirement already satisfied: pip in /anaconda/envs/azureml_py38/lib/python3.10/site-packages (24.3.1)\nLooking in indexes: https://pypi.org/simple, https://download.pytorch.org/whl/cu113\nObtaining taming-transformers from git+https://github.com/CompVis/taming-transformers.git@master#egg=taming-transformers (from -r requirements.txt (line 23))\n\u001b[31mERROR: Exception:\nTraceback (most recent call last):\n  File \"/anaconda/envs/azureml_py38/lib/python3.10/site-packages/pip/_internal/vcs/git.py\", line 368, in get_remote_url\n    found_remote = remotes[0]\nIndexError: list index out of range\n\nDuring handling of the above exception, another exception occurred:\n\nTraceback (most recent call last):\n  File \"/anaconda/envs/azureml_py38/lib/python3.10/site-packages/pip/_internal/cli/base_command.py\", line 105, in _run_wrapper\n    status = _inner_run()\n  File \"/anaconda/envs/azureml_py38/lib/python3.10/site-packages/pip/_internal/cli/base_command.py\", line 96, in _inner_run\n    return self.run(options, args)\n  File \"/anaconda/envs/azureml_py38/lib/python3.10/site-packages/pip/_internal/cli/req_command.py\", line 67, in wrapper\n    return func(self, options, args)\n  File \"/anaconda/envs/azureml_py38/lib/python3.10/site-packages/pip/_internal/commands/install.py\", line 379, in run\n    requirement_set = resolver.resolve(\n  File \"/anaconda/envs/azureml_py38/lib/python3.10/site-packages/pip/_internal/resolution/resolvelib/resolver.py\", line 76, in resolve\n    collected = self.factory.collect_root_requirements(root_reqs)\n  File \"/anaconda/envs/azureml_py38/lib/python3.10/site-packages/pip/_internal/resolution/resolvelib/factory.py\", line 545, in collect_root_requirements\n    reqs = list(\n  File \"/anaconda/envs/azureml_py38/lib/python3.10/site-packages/pip/_internal/resolution/resolvelib/factory.py\", line 501, in _make_requirements_from_install_req\n    cand = self._make_base_candidate_from_link(\n  File \"/anaconda/envs/azureml_py38/lib/python3.10/site-packages/pip/_internal/resolution/resolvelib/factory.py\", line 212, in _make_base_candidate_from_link\n    self._editable_candidate_cache[link] = EditableCandidate(\n  File \"/anaconda/envs/azureml_py38/lib/python3.10/site-packages/pip/_internal/resolution/resolvelib/candidates.py\", line 329, in __init__\n    super().__init__(\n  File \"/anaconda/envs/azureml_py38/lib/python3.10/site-packages/pip/_internal/resolution/resolvelib/candidates.py\", line 159, in __init__\n    self.dist = self._prepare()\n  File \"/anaconda/envs/azureml_py38/lib/python3.10/site-packages/pip/_internal/resolution/resolvelib/candidates.py\", line 236, in _prepare\n    dist = self._prepare_distribution()\n  File \"/anaconda/envs/azureml_py38/lib/python3.10/site-packages/pip/_internal/resolution/resolvelib/candidates.py\", line 339, in _prepare_distribution\n    return self._factory.preparer.prepare_editable_requirement(self._ireq)\n  File \"/anaconda/envs/azureml_py38/lib/python3.10/site-packages/pip/_internal/operations/prepare.py\", line 694, in prepare_editable_requirement\n    req.update_editable()\n  File \"/anaconda/envs/azureml_py38/lib/python3.10/site-packages/pip/_internal/req/req_install.py\", line 697, in update_editable\n    vcs_backend.obtain(self.source_dir, url=hidden_url, verbosity=0)\n  File \"/anaconda/envs/azureml_py38/lib/python3.10/site-packages/pip/_internal/vcs/versioncontrol.py\", line 507, in obtain\n    existing_url = self.get_remote_url(dest)\n  File \"/anaconda/envs/azureml_py38/lib/python3.10/site-packages/pip/_internal/vcs/git.py\", line 370, in get_remote_url\n    raise RemoteNotFoundError\npip._internal.vcs.versioncontrol.RemoteNotFoundError\u001b[0m\u001b[31m\n\u001b[0mRequirement already satisfied: keras in /anaconda/envs/azureml_py38/lib/python3.10/site-packages (3.7.0)\nRequirement already satisfied: absl-py in /anaconda/envs/azureml_py38/lib/python3.10/site-packages (from keras) (2.1.0)\nRequirement already satisfied: numpy in /anaconda/envs/azureml_py38/lib/python3.10/site-packages (from keras) (1.23.5)\nRequirement already satisfied: rich in /anaconda/envs/azureml_py38/lib/python3.10/site-packages (from keras) (13.8.1)\nRequirement already satisfied: namex in /anaconda/envs/azureml_py38/lib/python3.10/site-packages (from keras) (0.0.8)\nRequirement already satisfied: h5py in /anaconda/envs/azureml_py38/lib/python3.10/site-packages (from keras) (3.11.0)\nRequirement already satisfied: optree in /anaconda/envs/azureml_py38/lib/python3.10/site-packages (from keras) (0.12.1)\nRequirement already satisfied: ml-dtypes in /anaconda/envs/azureml_py38/lib/python3.10/site-packages (from keras) (0.5.0)\nRequirement already satisfied: packaging in /anaconda/envs/azureml_py38/lib/python3.10/site-packages (from keras) (24.1)\nRequirement already satisfied: typing-extensions>=4.5.0 in /anaconda/envs/azureml_py38/lib/python3.10/site-packages (from optree->keras) (4.12.2)\nRequirement already satisfied: markdown-it-py>=2.2.0 in /anaconda/envs/azureml_py38/lib/python3.10/site-packages (from rich->keras) (3.0.0)\nRequirement already satisfied: pygments<3.0.0,>=2.13.0 in /anaconda/envs/azureml_py38/lib/python3.10/site-packages (from rich->keras) (2.18.0)\nRequirement already satisfied: mdurl~=0.1 in /anaconda/envs/azureml_py38/lib/python3.10/site-packages (from markdown-it-py>=2.2.0->rich->keras) (0.1.2)\n\u001b[33mWARNING: Skipping torchtext as it is not installed.\u001b[0m\u001b[33m\n\u001b[0m"
        }
      ],
      "execution_count": 6,
      "metadata": {},
      "id": "b2ac5b99-44ea-46e4-9562-15a134bccafb"
    },
    {
      "cell_type": "code",
      "source": [
        "!nvidia-smi"
      ],
      "outputs": [
        {
          "output_type": "stream",
          "name": "stdout",
          "text": "NVIDIA-SMI has failed because it couldn't communicate with the NVIDIA driver. Make sure that the latest NVIDIA driver is installed and running.\r\n\r\n"
        }
      ],
      "execution_count": 7,
      "metadata": {},
      "id": "9df4d1d0-ae2e-463b-bf0a-3dfa8a01c452"
    },
    {
      "cell_type": "code",
      "source": [
        "import os\n",
        "from PIL import Image, UnidentifiedImageError\n",
        "\n",
        "def preprocess_images(input_dir, output_dir, size=(256, 256)):\n",
        "    os.makedirs(output_dir, exist_ok=True)  # Create the output directory if it doesn't exist\n",
        "    \n",
        "    for file_name in os.listdir(input_dir):  # Iterate over files in the input directory\n",
        "        img_path = os.path.join(input_dir, file_name)\n",
        "        \n",
        "        # Ensure the file has a .jpg extension\n",
        "        if not file_name.lower().endswith(\".jpg\"):\n",
        "            print(f\"Skipping non-JPG file: {file_name}\")\n",
        "            continue\n",
        "        \n",
        "        try:\n",
        "            # Open and process the image\n",
        "            with Image.open(img_path) as img:\n",
        "                img = img.convert(\"RGB\")  # Ensure RGB format\n",
        "                img = img.resize(size)    # Resize the image\n",
        "                img.save(os.path.join(output_dir, file_name))  # Save the preprocessed image\n",
        "        except UnidentifiedImageError:\n",
        "            print(f\"Skipping corrupted image file: {file_name}\")\n",
        "        except PermissionError:\n",
        "            print(f\"Skipping file due to permission error: {file_name}\")\n",
        "        except Exception as e:\n",
        "            print(f\"Error processing {file_name}: {e}\")\n",
        "\n",
        "# Use the correct dataset path\n",
        "input_path = \"/mnt/batch/tasks/shared/LS_root/mounts/clusters/execinstance/code/Users/1155143473/Human Image Generation with Animal Features/my_dataset/images\"\n",
        "output_path = \"/mnt/batch/tasks/shared/LS_root/mounts/clusters/execinstance/code/Users/1155143473/Human Image Generation with Animal Features/my_dataset/preprocessed_images\"\n",
        "\n",
        "print(\"Input Path Exists:\", os.path.exists(input_path))\n",
        "print(\"Output Path Exists:\", os.path.exists(output_path))\n",
        "\n",
        "# Run the preprocessing function\n",
        "preprocess_images(input_path, output_path)\n"
      ],
      "outputs": [
        {
          "output_type": "stream",
          "name": "stdout",
          "text": "Input Path Exists: True\nOutput Path Exists: True\nSkipping non-JPG file: .amlignore\nSkipping non-JPG file: .amlignore.amltmp\n"
        }
      ],
      "execution_count": 8,
      "metadata": {
        "gather": {
          "logged": 1734372905376
        }
      },
      "id": "e1f2baaa-39c0-47ad-977e-eabfc64879df"
    },
    {
      "cell_type": "code",
      "source": [
        "pip install datasets\n"
      ],
      "outputs": [
        {
          "output_type": "stream",
          "name": "stdout",
          "text": "Requirement already satisfied: datasets in /anaconda/envs/azureml_py38_PT_TF/lib/python3.10/site-packages (3.2.0)\nRequirement already satisfied: filelock in /anaconda/envs/azureml_py38_PT_TF/lib/python3.10/site-packages (from datasets) (3.16.1)\nRequirement already satisfied: numpy>=1.17 in /anaconda/envs/azureml_py38_PT_TF/lib/python3.10/site-packages (from datasets) (1.23.5)\nRequirement already satisfied: pyarrow>=15.0.0 in /anaconda/envs/azureml_py38_PT_TF/lib/python3.10/site-packages (from datasets) (17.0.0)\nRequirement already satisfied: dill<0.3.9,>=0.3.0 in /anaconda/envs/azureml_py38_PT_TF/lib/python3.10/site-packages (from datasets) (0.3.8)\nRequirement already satisfied: pandas in /anaconda/envs/azureml_py38_PT_TF/lib/python3.10/site-packages (from datasets) (2.2.3)\nRequirement already satisfied: requests>=2.32.2 in /anaconda/envs/azureml_py38_PT_TF/lib/python3.10/site-packages (from datasets) (2.32.3)\nRequirement already satisfied: tqdm>=4.66.3 in /anaconda/envs/azureml_py38_PT_TF/lib/python3.10/site-packages (from datasets) (4.66.5)\nRequirement already satisfied: xxhash in /anaconda/envs/azureml_py38_PT_TF/lib/python3.10/site-packages (from datasets) (3.5.0)\nRequirement already satisfied: multiprocess<0.70.17 in /anaconda/envs/azureml_py38_PT_TF/lib/python3.10/site-packages (from datasets) (0.70.16)\nRequirement already satisfied: fsspec<=2024.9.0,>=2023.1.0 in /anaconda/envs/azureml_py38_PT_TF/lib/python3.10/site-packages (from fsspec[http]<=2024.9.0,>=2023.1.0->datasets) (2024.9.0)\nRequirement already satisfied: aiohttp in /anaconda/envs/azureml_py38_PT_TF/lib/python3.10/site-packages (from datasets) (3.11.10)\nRequirement already satisfied: huggingface-hub>=0.23.0 in /anaconda/envs/azureml_py38_PT_TF/lib/python3.10/site-packages (from datasets) (0.26.5)\nRequirement already satisfied: packaging in /anaconda/envs/azureml_py38_PT_TF/lib/python3.10/site-packages (from datasets) (24.1)\nRequirement already satisfied: pyyaml>=5.1 in /anaconda/envs/azureml_py38_PT_TF/lib/python3.10/site-packages (from datasets) (6.0.2)\nRequirement already satisfied: aiohappyeyeballs>=2.3.0 in /anaconda/envs/azureml_py38_PT_TF/lib/python3.10/site-packages (from aiohttp->datasets) (2.4.4)\nRequirement already satisfied: aiosignal>=1.1.2 in /anaconda/envs/azureml_py38_PT_TF/lib/python3.10/site-packages (from aiohttp->datasets) (1.3.2)\nRequirement already satisfied: async-timeout<6.0,>=4.0 in /anaconda/envs/azureml_py38_PT_TF/lib/python3.10/site-packages (from aiohttp->datasets) (5.0.1)\nRequirement already satisfied: attrs>=17.3.0 in /anaconda/envs/azureml_py38_PT_TF/lib/python3.10/site-packages (from aiohttp->datasets) (24.2.0)\nRequirement already satisfied: frozenlist>=1.1.1 in /anaconda/envs/azureml_py38_PT_TF/lib/python3.10/site-packages (from aiohttp->datasets) (1.5.0)\nRequirement already satisfied: multidict<7.0,>=4.5 in /anaconda/envs/azureml_py38_PT_TF/lib/python3.10/site-packages (from aiohttp->datasets) (6.1.0)\nRequirement already satisfied: propcache>=0.2.0 in /anaconda/envs/azureml_py38_PT_TF/lib/python3.10/site-packages (from aiohttp->datasets) (0.2.1)\nRequirement already satisfied: yarl<2.0,>=1.17.0 in /anaconda/envs/azureml_py38_PT_TF/lib/python3.10/site-packages (from aiohttp->datasets) (1.18.3)\nRequirement already satisfied: typing-extensions>=3.7.4.3 in /anaconda/envs/azureml_py38_PT_TF/lib/python3.10/site-packages (from huggingface-hub>=0.23.0->datasets) (4.12.2)\nRequirement already satisfied: charset-normalizer<4,>=2 in /anaconda/envs/azureml_py38_PT_TF/lib/python3.10/site-packages (from requests>=2.32.2->datasets) (3.3.2)\nRequirement already satisfied: idna<4,>=2.5 in /anaconda/envs/azureml_py38_PT_TF/lib/python3.10/site-packages (from requests>=2.32.2->datasets) (3.10)\nRequirement already satisfied: urllib3<3,>=1.21.1 in /anaconda/envs/azureml_py38_PT_TF/lib/python3.10/site-packages (from requests>=2.32.2->datasets) (2.2.3)\nRequirement already satisfied: certifi>=2017.4.17 in /anaconda/envs/azureml_py38_PT_TF/lib/python3.10/site-packages (from requests>=2.32.2->datasets) (2024.8.30)\nRequirement already satisfied: python-dateutil>=2.8.2 in /anaconda/envs/azureml_py38_PT_TF/lib/python3.10/site-packages (from pandas->datasets) (2.9.0)\nRequirement already satisfied: pytz>=2020.1 in /anaconda/envs/azureml_py38_PT_TF/lib/python3.10/site-packages (from pandas->datasets) (2024.2)\nRequirement already satisfied: tzdata>=2022.7 in /anaconda/envs/azureml_py38_PT_TF/lib/python3.10/site-packages (from pandas->datasets) (2024.1)\nRequirement already satisfied: six>=1.5 in /anaconda/envs/azureml_py38_PT_TF/lib/python3.10/site-packages (from python-dateutil>=2.8.2->pandas->datasets) (1.16.0)\nNote: you may need to restart the kernel to use updated packages.\n"
        }
      ],
      "execution_count": 9,
      "metadata": {
        "gather": {
          "logged": 1734372907850
        }
      },
      "id": "fa553280-f34e-4912-8496-3673a839bb97"
    },
    {
      "cell_type": "code",
      "source": [
        "import os\n",
        "from PIL import Image, UnidentifiedImageError\n",
        "from datasets import Dataset\n",
        "import numpy as np\n",
        "from torch.utils.data import DataLoader\n",
        "\n",
        "# Preprocess images: resize and save to output directory\n",
        "def preprocess_images(input_dir, output_dir, size=(256, 256)):\n",
        "    os.makedirs(output_dir, exist_ok=True)\n",
        "    valid_extensions = (\".jpg\", \".jpeg\", \".png\")\n",
        "    for file_name in os.listdir(input_dir):\n",
        "        img_path = os.path.join(input_dir, file_name)\n",
        "        if not file_name.lower().endswith(valid_extensions):  # Skip non-image files\n",
        "            print(f\"Skipping non-image file: {file_name}\")\n",
        "            continue\n",
        "        try:\n",
        "            img = Image.open(img_path).convert(\"RGB\")\n",
        "            img = img.resize(size)\n",
        "            img.save(os.path.join(output_dir, file_name))\n",
        "        except UnidentifiedImageError:\n",
        "            print(f\"Skipping corrupted file: {file_name}\")\n",
        "        except Exception as e:\n",
        "            print(f\"Error processing {file_name}: {e}\")\n",
        "\n",
        "# Define paths\n",
        "input_path = \"/mnt/batch/tasks/shared/LS_root/mounts/clusters/execinstance/code/Users/1155143473/Human Image Generation with Animal Features/my_dataset/images\"\n",
        "output_path = \"/mnt/batch/tasks/shared/LS_root/mounts/clusters/execinstance/code/Users/1155143473/Human Image Generation with Animal Features/my_dataset/preprocessed_images\"\n",
        "captions_path = \"/mnt/batch/tasks/shared/LS_root/mounts/clusters/execinstance/code/Users/1155143473/Human Image Generation with Animal Features/my_dataset/captions.txt\"\n",
        "\n",
        "# Preprocess images\n",
        "preprocess_images(input_path, output_path)\n",
        "\n",
        "# Ensure captions.txt exists\n",
        "assert os.path.exists(captions_path), \"The captions.txt file is missing!\"\n",
        "\n",
        "# Load captions and prepare dataset\n",
        "data = []\n",
        "with open(captions_path, \"r\") as f:\n",
        "    for line in f:\n",
        "        image_name, caption = line.strip().split(\"   \")  # Split using double space\n",
        "        image_path = os.path.join(output_path, image_name)\n",
        "        if os.path.exists(image_path):\n",
        "            data.append({\"image\": image_path, \"text\": caption})\n",
        "\n",
        "# Convert to Hugging Face Dataset\n",
        "data_dict = {\n",
        "    \"image\": [item[\"image\"] for item in data],\n",
        "    \"text\": [item[\"text\"] for item in data],\n",
        "}\n",
        "ds = Dataset.from_dict(data_dict)\n",
        "\n",
        "# Define dynamic preprocessing function\n",
        "def preprocess_data(batch):\n",
        "    processed_images = []\n",
        "    for img_path in batch[\"image\"]:\n",
        "        try:\n",
        "            image = Image.open(img_path).convert(\"RGB\")\n",
        "            image = image.resize((256, 256))\n",
        "            processed_images.append(np.array(image))\n",
        "        except Exception as e:\n",
        "            print(f\"Error processing image {img_path}: {e}\")\n",
        "            processed_images.append(np.zeros((256, 256, 3), dtype=np.uint8))  # Placeholder for errors\n",
        "    batch[\"image\"] = processed_images\n",
        "    return batch\n",
        "\n",
        "# Apply preprocessing dynamically\n",
        "ds = ds.with_transform(preprocess_data)\n",
        "\n",
        "# Debug: Verify image types and shapes\n",
        "for i in range(3):\n",
        "    print(f\"Sample {i} image type: {type(ds[i]['image'])}, Shape: {ds[i]['image'].shape}\")\n",
        "\n",
        "# Define a simple collate function for DataLoader\n",
        "def collate_fn(batch):\n",
        "    images = np.stack([item[\"image\"] for item in batch])  # Stack as NumPy arrays\n",
        "    captions = [item[\"text\"] for item in batch]  # Extract captions\n",
        "    return {\"images\": images, \"captions\": captions}\n",
        "\n",
        "# Create DataLoader\n",
        "dataloader = DataLoader(ds, batch_size=8, shuffle=True, collate_fn=collate_fn)\n",
        "\n",
        "# Test the DataLoader\n",
        "for batch in dataloader:\n",
        "    print(\"Images shape:\", batch[\"images\"].shape)  # Should be (batch_size, 256, 256, 3)\n",
        "    print(\"Captions:\", batch[\"captions\"])\n",
        "    break\n"
      ],
      "outputs": [
        {
          "output_type": "stream",
          "name": "stdout",
          "text": "Skipping non-image file: .amlignore\nSkipping non-image file: .amlignore.amltmp\nSample 0 image type: <class 'numpy.ndarray'>, Shape: (256, 256, 3)\nSample 1 image type: <class 'numpy.ndarray'>, Shape: (256, 256, 3)\nSample 2 image type: <class 'numpy.ndarray'>, Shape: (256, 256, 3)\nImages shape: (8, 256, 256, 3)\nCaptions: ['A brunette female with soft beige cat ears blending seamlessly into her hair. She is wearing a tan off-shoulder top, with a neutral background that highlights her warm and natural appearance.', 'A blonde female with natural light-brown cat ears and expressive blue eyes, dressed in a light cardigan and tank top. She is standing on a city street with blurred figures and urban buildings in the background.', 'A blonde female with natural light-brown cat ears, expressive blue eyes, and a neutral-toned cardigan, standing in an urban environment with soft natural lighting.', 'A brunette female with natural beige-and-brown cat ears and soft green-brown eyes, dressed in a simple gray top. The background is minimalistic and gray, highlighting her features.', 'A blonde female with soft light-brown cat ears, radiant blue eyes, and a warm beige outfit. She is standing in a brightly lit urban street framed by blurred architectural details.', 'A blonde girl with short golden-blond hair and blue eyes, wearing a beige cardigan over a white shirt. She has big fluffy blond cat ears with soft white inner fur.', 'An Asian girl with long black hair and black eyes, wearing fitness clothing with a hoodie on top. She has big fluffy black cat ears with brown inner fur.', 'A girl with long blond hair and blue eyes, wearing a hoodie and a white shirt. She has big fluffy blond cat ears with soft white inner fur.']\n"
        }
      ],
      "execution_count": 10,
      "metadata": {
        "gather": {
          "logged": 1734372922737
        }
      },
      "id": "cb5c9c24-ce1d-429c-aa37-6f1a49ce2bf7"
    },
    {
      "cell_type": "code",
      "source": [
        "!pip install huggingface_hub"
      ],
      "outputs": [
        {
          "output_type": "stream",
          "name": "stdout",
          "text": "Requirement already satisfied: huggingface_hub in /anaconda/envs/azureml_py38/lib/python3.10/site-packages (0.27.0)\r\nRequirement already satisfied: filelock in /anaconda/envs/azureml_py38/lib/python3.10/site-packages (from huggingface_hub) (3.15.4)\r\nRequirement already satisfied: fsspec>=2023.5.0 in /anaconda/envs/azureml_py38/lib/python3.10/site-packages (from huggingface_hub) (2023.10.0)\r\nRequirement already satisfied: packaging>=20.9 in /anaconda/envs/azureml_py38/lib/python3.10/site-packages (from huggingface_hub) (24.1)\r\nRequirement already satisfied: pyyaml>=5.1 in /anaconda/envs/azureml_py38/lib/python3.10/site-packages (from huggingface_hub) (6.0.1)\r\nRequirement already satisfied: requests in /anaconda/envs/azureml_py38/lib/python3.10/site-packages (from huggingface_hub) (2.32.3)\r\nRequirement already satisfied: tqdm>=4.42.1 in /anaconda/envs/azureml_py38/lib/python3.10/site-packages (from huggingface_hub) (4.66.4)\r\nRequirement already satisfied: typing-extensions>=3.7.4.3 in /anaconda/envs/azureml_py38/lib/python3.10/site-packages (from huggingface_hub) (4.12.2)\r\nRequirement already satisfied: charset-normalizer<4,>=2 in /anaconda/envs/azureml_py38/lib/python3.10/site-packages (from requests->huggingface_hub) (3.3.2)\r\nRequirement already satisfied: idna<4,>=2.5 in /anaconda/envs/azureml_py38/lib/python3.10/site-packages (from requests->huggingface_hub) (3.7)\r\nRequirement already satisfied: urllib3<3,>=1.21.1 in /anaconda/envs/azureml_py38/lib/python3.10/site-packages (from requests->huggingface_hub) (1.26.19)\r\nRequirement already satisfied: certifi>=2017.4.17 in /anaconda/envs/azureml_py38/lib/python3.10/site-packages (from requests->huggingface_hub) (2024.8.30)\r\n"
        }
      ],
      "execution_count": 11,
      "metadata": {
        "gather": {
          "logged": 1734354392947
        }
      },
      "id": "bbee7bbb-9399-4787-8069-9d4a7ed98a8e"
    },
    {
      "cell_type": "code",
      "source": [
        "pip install ipywidgets"
      ],
      "outputs": [
        {
          "output_type": "stream",
          "name": "stdout",
          "text": "Requirement already satisfied: ipywidgets in /anaconda/envs/azureml_py38_PT_TF/lib/python3.10/site-packages (8.1.5)\nRequirement already satisfied: comm>=0.1.3 in /anaconda/envs/azureml_py38_PT_TF/lib/python3.10/site-packages (from ipywidgets) (0.2.2)\nRequirement already satisfied: ipython>=6.1.0 in /anaconda/envs/azureml_py38_PT_TF/lib/python3.10/site-packages (from ipywidgets) (8.18.0)\nRequirement already satisfied: traitlets>=4.3.1 in /anaconda/envs/azureml_py38_PT_TF/lib/python3.10/site-packages (from ipywidgets) (5.14.3)\nRequirement already satisfied: widgetsnbextension~=4.0.12 in /anaconda/envs/azureml_py38_PT_TF/lib/python3.10/site-packages (from ipywidgets) (4.0.13)\nRequirement already satisfied: jupyterlab-widgets~=3.0.12 in /anaconda/envs/azureml_py38_PT_TF/lib/python3.10/site-packages (from ipywidgets) (3.0.13)\nRequirement already satisfied: decorator in /anaconda/envs/azureml_py38_PT_TF/lib/python3.10/site-packages (from ipython>=6.1.0->ipywidgets) (5.1.1)\nRequirement already satisfied: jedi>=0.16 in /anaconda/envs/azureml_py38_PT_TF/lib/python3.10/site-packages (from ipython>=6.1.0->ipywidgets) (0.19.1)\nRequirement already satisfied: matplotlib-inline in /anaconda/envs/azureml_py38_PT_TF/lib/python3.10/site-packages (from ipython>=6.1.0->ipywidgets) (0.1.7)\nRequirement already satisfied: prompt-toolkit!=3.0.37,<3.1.0,>=3.0.30 in /anaconda/envs/azureml_py38_PT_TF/lib/python3.10/site-packages (from ipython>=6.1.0->ipywidgets) (3.0.30)\nRequirement already satisfied: pygments>=2.4.0 in /anaconda/envs/azureml_py38_PT_TF/lib/python3.10/site-packages (from ipython>=6.1.0->ipywidgets) (2.18.0)\nRequirement already satisfied: stack-data in /anaconda/envs/azureml_py38_PT_TF/lib/python3.10/site-packages (from ipython>=6.1.0->ipywidgets) (0.6.2)\nRequirement already satisfied: exceptiongroup in /anaconda/envs/azureml_py38_PT_TF/lib/python3.10/site-packages (from ipython>=6.1.0->ipywidgets) (1.2.2)\nRequirement already satisfied: pexpect>4.3 in /anaconda/envs/azureml_py38_PT_TF/lib/python3.10/site-packages (from ipython>=6.1.0->ipywidgets) (4.9.0)\nRequirement already satisfied: parso<0.9.0,>=0.8.3 in /anaconda/envs/azureml_py38_PT_TF/lib/python3.10/site-packages (from jedi>=0.16->ipython>=6.1.0->ipywidgets) (0.8.4)\nRequirement already satisfied: ptyprocess>=0.5 in /anaconda/envs/azureml_py38_PT_TF/lib/python3.10/site-packages (from pexpect>4.3->ipython>=6.1.0->ipywidgets) (0.7.0)\nRequirement already satisfied: wcwidth in /anaconda/envs/azureml_py38_PT_TF/lib/python3.10/site-packages (from prompt-toolkit!=3.0.37,<3.1.0,>=3.0.30->ipython>=6.1.0->ipywidgets) (0.2.13)\nRequirement already satisfied: executing>=1.2.0 in /anaconda/envs/azureml_py38_PT_TF/lib/python3.10/site-packages (from stack-data->ipython>=6.1.0->ipywidgets) (2.1.0)\nRequirement already satisfied: asttokens>=2.1.0 in /anaconda/envs/azureml_py38_PT_TF/lib/python3.10/site-packages (from stack-data->ipython>=6.1.0->ipywidgets) (2.4.1)\nRequirement already satisfied: pure-eval in /anaconda/envs/azureml_py38_PT_TF/lib/python3.10/site-packages (from stack-data->ipython>=6.1.0->ipywidgets) (0.2.3)\nRequirement already satisfied: six>=1.12.0 in /anaconda/envs/azureml_py38_PT_TF/lib/python3.10/site-packages (from asttokens>=2.1.0->stack-data->ipython>=6.1.0->ipywidgets) (1.16.0)\nNote: you may need to restart the kernel to use updated packages.\n"
        }
      ],
      "execution_count": 12,
      "metadata": {
        "jupyter": {
          "source_hidden": false,
          "outputs_hidden": false
        },
        "nteract": {
          "transient": {
            "deleting": false
          }
        },
        "gather": {
          "logged": 1734372926072
        }
      },
      "id": "29b9a496-0f9e-4a02-9a2f-1968a086d65b"
    },
    {
      "cell_type": "code",
      "source": [
        "from huggingface_hub import notebook_login\n",
        "notebook_login()"
      ],
      "outputs": [
        {
          "output_type": "display_data",
          "data": {
            "text/plain": "VBox(children=(HTML(value='<center> <img\\nsrc=https://huggingface.co/front/assets/huggingface_logo-noborder.sv…",
            "application/vnd.jupyter.widget-view+json": {
              "version_major": 2,
              "version_minor": 0,
              "model_id": "9c18325edee243b289adac127bed40eb"
            }
          },
          "metadata": {}
        },
        {
          "output_type": "stream",
          "name": "stderr",
          "text": "Token has not been saved to git credential helper.\n"
        }
      ],
      "execution_count": 13,
      "metadata": {
        "jupyter": {
          "source_hidden": false,
          "outputs_hidden": false
        },
        "nteract": {
          "transient": {
            "deleting": false
          }
        },
        "gather": {
          "logged": 1734372926438
        }
      },
      "id": "7fc5c21f-6c6f-47d2-8d60-f9f320daaa76"
    },
    {
      "cell_type": "code",
      "source": [
        "!pip install diffusers transformers accelerate"
      ],
      "outputs": [
        {
          "output_type": "stream",
          "name": "stdout",
          "text": "Requirement already satisfied: diffusers in /anaconda/envs/azureml_py38/lib/python3.10/site-packages (0.31.0)\nRequirement already satisfied: transformers in /anaconda/envs/azureml_py38/lib/python3.10/site-packages (4.47.0)\nRequirement already satisfied: accelerate in /anaconda/envs/azureml_py38/lib/python3.10/site-packages (1.2.1)\nRequirement already satisfied: importlib-metadata in /anaconda/envs/azureml_py38/lib/python3.10/site-packages (from diffusers) (7.2.1)\nRequirement already satisfied: filelock in /anaconda/envs/azureml_py38/lib/python3.10/site-packages (from diffusers) (3.15.4)\nRequirement already satisfied: huggingface-hub>=0.23.2 in /anaconda/envs/azureml_py38/lib/python3.10/site-packages (from diffusers) (0.27.0)\nRequirement already satisfied: numpy in /anaconda/envs/azureml_py38/lib/python3.10/site-packages (from diffusers) (1.23.5)\nRequirement already satisfied: regex!=2019.12.17 in /anaconda/envs/azureml_py38/lib/python3.10/site-packages (from diffusers) (2024.7.24)\nRequirement already satisfied: requests in /anaconda/envs/azureml_py38/lib/python3.10/site-packages (from diffusers) (2.32.3)\nRequirement already satisfied: safetensors>=0.3.1 in /anaconda/envs/azureml_py38/lib/python3.10/site-packages (from diffusers) (0.4.4)\nRequirement already satisfied: Pillow in /anaconda/envs/azureml_py38/lib/python3.10/site-packages (from diffusers) (9.2.0)\nRequirement already satisfied: packaging>=20.0 in /anaconda/envs/azureml_py38/lib/python3.10/site-packages (from transformers) (24.1)\nRequirement already satisfied: pyyaml>=5.1 in /anaconda/envs/azureml_py38/lib/python3.10/site-packages (from transformers) (6.0.1)\nRequirement already satisfied: tokenizers<0.22,>=0.21 in /anaconda/envs/azureml_py38/lib/python3.10/site-packages (from transformers) (0.21.0)\nRequirement already satisfied: tqdm>=4.27 in /anaconda/envs/azureml_py38/lib/python3.10/site-packages (from transformers) (4.66.4)\nRequirement already satisfied: psutil in /anaconda/envs/azureml_py38/lib/python3.10/site-packages (from accelerate) (5.9.3)\nRequirement already satisfied: torch>=1.10.0 in /anaconda/envs/azureml_py38/lib/python3.10/site-packages (from accelerate) (2.5.1)\nRequirement already satisfied: fsspec>=2023.5.0 in /anaconda/envs/azureml_py38/lib/python3.10/site-packages (from huggingface-hub>=0.23.2->diffusers) (2023.10.0)\nRequirement already satisfied: typing-extensions>=3.7.4.3 in /anaconda/envs/azureml_py38/lib/python3.10/site-packages (from huggingface-hub>=0.23.2->diffusers) (4.12.2)\nRequirement already satisfied: networkx in /anaconda/envs/azureml_py38/lib/python3.10/site-packages (from torch>=1.10.0->accelerate) (3.3)\nRequirement already satisfied: jinja2 in /anaconda/envs/azureml_py38/lib/python3.10/site-packages (from torch>=1.10.0->accelerate) (3.1.4)\nRequirement already satisfied: nvidia-cuda-nvrtc-cu12==12.4.127 in /anaconda/envs/azureml_py38/lib/python3.10/site-packages (from torch>=1.10.0->accelerate) (12.4.127)\nRequirement already satisfied: nvidia-cuda-runtime-cu12==12.4.127 in /anaconda/envs/azureml_py38/lib/python3.10/site-packages (from torch>=1.10.0->accelerate) (12.4.127)\nRequirement already satisfied: nvidia-cuda-cupti-cu12==12.4.127 in /anaconda/envs/azureml_py38/lib/python3.10/site-packages (from torch>=1.10.0->accelerate) (12.4.127)\nRequirement already satisfied: nvidia-cudnn-cu12==9.1.0.70 in /anaconda/envs/azureml_py38/lib/python3.10/site-packages (from torch>=1.10.0->accelerate) (9.1.0.70)\nRequirement already satisfied: nvidia-cublas-cu12==12.4.5.8 in /anaconda/envs/azureml_py38/lib/python3.10/site-packages (from torch>=1.10.0->accelerate) (12.4.5.8)\nRequirement already satisfied: nvidia-cufft-cu12==11.2.1.3 in /anaconda/envs/azureml_py38/lib/python3.10/site-packages (from torch>=1.10.0->accelerate) (11.2.1.3)\nRequirement already satisfied: nvidia-curand-cu12==10.3.5.147 in /anaconda/envs/azureml_py38/lib/python3.10/site-packages (from torch>=1.10.0->accelerate) (10.3.5.147)\nRequirement already satisfied: nvidia-cusolver-cu12==11.6.1.9 in /anaconda/envs/azureml_py38/lib/python3.10/site-packages (from torch>=1.10.0->accelerate) (11.6.1.9)\nRequirement already satisfied: nvidia-cusparse-cu12==12.3.1.170 in /anaconda/envs/azureml_py38/lib/python3.10/site-packages (from torch>=1.10.0->accelerate) (12.3.1.170)\nRequirement already satisfied: nvidia-nccl-cu12==2.21.5 in /anaconda/envs/azureml_py38/lib/python3.10/site-packages (from torch>=1.10.0->accelerate) (2.21.5)\nRequirement already satisfied: nvidia-nvtx-cu12==12.4.127 in /anaconda/envs/azureml_py38/lib/python3.10/site-packages (from torch>=1.10.0->accelerate) (12.4.127)\nRequirement already satisfied: nvidia-nvjitlink-cu12==12.4.127 in /anaconda/envs/azureml_py38/lib/python3.10/site-packages (from torch>=1.10.0->accelerate) (12.4.127)\nRequirement already satisfied: triton==3.1.0 in /anaconda/envs/azureml_py38/lib/python3.10/site-packages (from torch>=1.10.0->accelerate) (3.1.0)\nRequirement already satisfied: sympy==1.13.1 in /anaconda/envs/azureml_py38/lib/python3.10/site-packages (from torch>=1.10.0->accelerate) (1.13.1)\nRequirement already satisfied: mpmath<1.4,>=1.1.0 in /anaconda/envs/azureml_py38/lib/python3.10/site-packages (from sympy==1.13.1->torch>=1.10.0->accelerate) (1.3.0)\nRequirement already satisfied: zipp>=0.5 in /anaconda/envs/azureml_py38/lib/python3.10/site-packages (from importlib-metadata->diffusers) (3.12.0)\nRequirement already satisfied: charset-normalizer<4,>=2 in /anaconda/envs/azureml_py38/lib/python3.10/site-packages (from requests->diffusers) (3.3.2)\nRequirement already satisfied: idna<4,>=2.5 in /anaconda/envs/azureml_py38/lib/python3.10/site-packages (from requests->diffusers) (3.7)\nRequirement already satisfied: urllib3<3,>=1.21.1 in /anaconda/envs/azureml_py38/lib/python3.10/site-packages (from requests->diffusers) (1.26.19)\nRequirement already satisfied: certifi>=2017.4.17 in /anaconda/envs/azureml_py38/lib/python3.10/site-packages (from requests->diffusers) (2024.8.30)\nRequirement already satisfied: MarkupSafe>=2.0 in /anaconda/envs/azureml_py38/lib/python3.10/site-packages (from jinja2->torch>=1.10.0->accelerate) (2.1.3)\n"
        }
      ],
      "execution_count": 14,
      "metadata": {},
      "id": "2cc39375-1a35-4ce1-a57a-14f3a3bdfade"
    },
    {
      "cell_type": "code",
      "source": [
        "!pip install --upgrade diffusers transformers accelerate datasets huggingface_hub xformers\n",
        "\n",
        "import os\n",
        "from PIL import Image\n",
        "from datasets import Dataset\n",
        "import numpy as np\n",
        "from torch.utils.data import DataLoader"
      ],
      "outputs": [
        {
          "output_type": "stream",
          "name": "stdout",
          "text": "Requirement already satisfied: diffusers in /anaconda/envs/azureml_py38/lib/python3.10/site-packages (0.31.0)\nRequirement already satisfied: transformers in /anaconda/envs/azureml_py38/lib/python3.10/site-packages (4.47.0)\nRequirement already satisfied: accelerate in /anaconda/envs/azureml_py38/lib/python3.10/site-packages (1.2.1)\nRequirement already satisfied: datasets in /anaconda/envs/azureml_py38/lib/python3.10/site-packages (3.2.0)\nRequirement already satisfied: huggingface_hub in /anaconda/envs/azureml_py38/lib/python3.10/site-packages (0.27.0)\nRequirement already satisfied: xformers in /anaconda/envs/azureml_py38/lib/python3.10/site-packages (0.0.28.post3)\nRequirement already satisfied: importlib-metadata in /anaconda/envs/azureml_py38/lib/python3.10/site-packages (from diffusers) (7.2.1)\nRequirement already satisfied: filelock in /anaconda/envs/azureml_py38/lib/python3.10/site-packages (from diffusers) (3.15.4)\nRequirement already satisfied: numpy in /anaconda/envs/azureml_py38/lib/python3.10/site-packages (from diffusers) (1.23.5)\nRequirement already satisfied: regex!=2019.12.17 in /anaconda/envs/azureml_py38/lib/python3.10/site-packages (from diffusers) (2024.7.24)\nRequirement already satisfied: requests in /anaconda/envs/azureml_py38/lib/python3.10/site-packages (from diffusers) (2.32.3)\nRequirement already satisfied: safetensors>=0.3.1 in /anaconda/envs/azureml_py38/lib/python3.10/site-packages (from diffusers) (0.4.4)\nRequirement already satisfied: Pillow in /anaconda/envs/azureml_py38/lib/python3.10/site-packages (from diffusers) (9.2.0)\nRequirement already satisfied: packaging>=20.0 in /anaconda/envs/azureml_py38/lib/python3.10/site-packages (from transformers) (24.1)\nRequirement already satisfied: pyyaml>=5.1 in /anaconda/envs/azureml_py38/lib/python3.10/site-packages (from transformers) (6.0.1)\nRequirement already satisfied: tokenizers<0.22,>=0.21 in /anaconda/envs/azureml_py38/lib/python3.10/site-packages (from transformers) (0.21.0)\nRequirement already satisfied: tqdm>=4.27 in /anaconda/envs/azureml_py38/lib/python3.10/site-packages (from transformers) (4.66.4)\nRequirement already satisfied: psutil in /anaconda/envs/azureml_py38/lib/python3.10/site-packages (from accelerate) (5.9.3)\nRequirement already satisfied: torch>=1.10.0 in /anaconda/envs/azureml_py38/lib/python3.10/site-packages (from accelerate) (2.5.1)\nRequirement already satisfied: pyarrow>=15.0.0 in /anaconda/envs/azureml_py38/lib/python3.10/site-packages (from datasets) (18.1.0)\nRequirement already satisfied: dill<0.3.9,>=0.3.0 in /anaconda/envs/azureml_py38/lib/python3.10/site-packages (from datasets) (0.3.7)\nRequirement already satisfied: pandas in /anaconda/envs/azureml_py38/lib/python3.10/site-packages (from datasets) (1.3.5)\nRequirement already satisfied: xxhash in /anaconda/envs/azureml_py38/lib/python3.10/site-packages (from datasets) (3.4.1)\nRequirement already satisfied: multiprocess<0.70.17 in /anaconda/envs/azureml_py38/lib/python3.10/site-packages (from datasets) (0.70.15)\nRequirement already satisfied: fsspec<=2024.9.0,>=2023.1.0 in /anaconda/envs/azureml_py38/lib/python3.10/site-packages (from fsspec[http]<=2024.9.0,>=2023.1.0->datasets) (2023.10.0)\nRequirement already satisfied: aiohttp in /anaconda/envs/azureml_py38/lib/python3.10/site-packages (from datasets) (3.10.1)\nRequirement already satisfied: typing-extensions>=3.7.4.3 in /anaconda/envs/azureml_py38/lib/python3.10/site-packages (from huggingface_hub) (4.12.2)\nRequirement already satisfied: networkx in /anaconda/envs/azureml_py38/lib/python3.10/site-packages (from torch>=1.10.0->accelerate) (3.3)\nRequirement already satisfied: jinja2 in /anaconda/envs/azureml_py38/lib/python3.10/site-packages (from torch>=1.10.0->accelerate) (3.1.4)\nRequirement already satisfied: nvidia-cuda-nvrtc-cu12==12.4.127 in /anaconda/envs/azureml_py38/lib/python3.10/site-packages (from torch>=1.10.0->accelerate) (12.4.127)\nRequirement already satisfied: nvidia-cuda-runtime-cu12==12.4.127 in /anaconda/envs/azureml_py38/lib/python3.10/site-packages (from torch>=1.10.0->accelerate) (12.4.127)\nRequirement already satisfied: nvidia-cuda-cupti-cu12==12.4.127 in /anaconda/envs/azureml_py38/lib/python3.10/site-packages (from torch>=1.10.0->accelerate) (12.4.127)\nRequirement already satisfied: nvidia-cudnn-cu12==9.1.0.70 in /anaconda/envs/azureml_py38/lib/python3.10/site-packages (from torch>=1.10.0->accelerate) (9.1.0.70)\nRequirement already satisfied: nvidia-cublas-cu12==12.4.5.8 in /anaconda/envs/azureml_py38/lib/python3.10/site-packages (from torch>=1.10.0->accelerate) (12.4.5.8)\nRequirement already satisfied: nvidia-cufft-cu12==11.2.1.3 in /anaconda/envs/azureml_py38/lib/python3.10/site-packages (from torch>=1.10.0->accelerate) (11.2.1.3)\nRequirement already satisfied: nvidia-curand-cu12==10.3.5.147 in /anaconda/envs/azureml_py38/lib/python3.10/site-packages (from torch>=1.10.0->accelerate) (10.3.5.147)\nRequirement already satisfied: nvidia-cusolver-cu12==11.6.1.9 in /anaconda/envs/azureml_py38/lib/python3.10/site-packages (from torch>=1.10.0->accelerate) (11.6.1.9)\nRequirement already satisfied: nvidia-cusparse-cu12==12.3.1.170 in /anaconda/envs/azureml_py38/lib/python3.10/site-packages (from torch>=1.10.0->accelerate) (12.3.1.170)\nRequirement already satisfied: nvidia-nccl-cu12==2.21.5 in /anaconda/envs/azureml_py38/lib/python3.10/site-packages (from torch>=1.10.0->accelerate) (2.21.5)\nRequirement already satisfied: nvidia-nvtx-cu12==12.4.127 in /anaconda/envs/azureml_py38/lib/python3.10/site-packages (from torch>=1.10.0->accelerate) (12.4.127)\nRequirement already satisfied: nvidia-nvjitlink-cu12==12.4.127 in /anaconda/envs/azureml_py38/lib/python3.10/site-packages (from torch>=1.10.0->accelerate) (12.4.127)\nRequirement already satisfied: triton==3.1.0 in /anaconda/envs/azureml_py38/lib/python3.10/site-packages (from torch>=1.10.0->accelerate) (3.1.0)\nRequirement already satisfied: sympy==1.13.1 in /anaconda/envs/azureml_py38/lib/python3.10/site-packages (from torch>=1.10.0->accelerate) (1.13.1)\nRequirement already satisfied: mpmath<1.4,>=1.1.0 in /anaconda/envs/azureml_py38/lib/python3.10/site-packages (from sympy==1.13.1->torch>=1.10.0->accelerate) (1.3.0)\nRequirement already satisfied: aiohappyeyeballs>=2.3.0 in /anaconda/envs/azureml_py38/lib/python3.10/site-packages (from aiohttp->datasets) (2.3.5)\nRequirement already satisfied: aiosignal>=1.1.2 in /anaconda/envs/azureml_py38/lib/python3.10/site-packages (from aiohttp->datasets) (1.3.1)\nRequirement already satisfied: attrs>=17.3.0 in /anaconda/envs/azureml_py38/lib/python3.10/site-packages (from aiohttp->datasets) (23.2.0)\nRequirement already satisfied: frozenlist>=1.1.1 in /anaconda/envs/azureml_py38/lib/python3.10/site-packages (from aiohttp->datasets) (1.4.1)\nRequirement already satisfied: multidict<7.0,>=4.5 in /anaconda/envs/azureml_py38/lib/python3.10/site-packages (from aiohttp->datasets) (6.0.5)\nRequirement already satisfied: yarl<2.0,>=1.0 in /anaconda/envs/azureml_py38/lib/python3.10/site-packages (from aiohttp->datasets) (1.9.4)\nRequirement already satisfied: async-timeout<5.0,>=4.0 in /anaconda/envs/azureml_py38/lib/python3.10/site-packages (from aiohttp->datasets) (4.0.3)\nRequirement already satisfied: charset-normalizer<4,>=2 in /anaconda/envs/azureml_py38/lib/python3.10/site-packages (from requests->diffusers) (3.3.2)\nRequirement already satisfied: idna<4,>=2.5 in /anaconda/envs/azureml_py38/lib/python3.10/site-packages (from requests->diffusers) (3.7)\nRequirement already satisfied: urllib3<3,>=1.21.1 in /anaconda/envs/azureml_py38/lib/python3.10/site-packages (from requests->diffusers) (1.26.19)\nRequirement already satisfied: certifi>=2017.4.17 in /anaconda/envs/azureml_py38/lib/python3.10/site-packages (from requests->diffusers) (2024.8.30)\nRequirement already satisfied: zipp>=0.5 in /anaconda/envs/azureml_py38/lib/python3.10/site-packages (from importlib-metadata->diffusers) (3.12.0)\nRequirement already satisfied: python-dateutil>=2.7.3 in /anaconda/envs/azureml_py38/lib/python3.10/site-packages (from pandas->datasets) (2.9.0.post0)\nRequirement already satisfied: pytz>=2017.3 in /anaconda/envs/azureml_py38/lib/python3.10/site-packages (from pandas->datasets) (2022.5)\nRequirement already satisfied: six>=1.5 in /anaconda/envs/azureml_py38/lib/python3.10/site-packages (from python-dateutil>=2.7.3->pandas->datasets) (1.16.0)\nRequirement already satisfied: MarkupSafe>=2.0 in /anaconda/envs/azureml_py38/lib/python3.10/site-packages (from jinja2->torch>=1.10.0->accelerate) (2.1.3)\n"
        }
      ],
      "execution_count": 15,
      "metadata": {
        "jupyter": {
          "source_hidden": false,
          "outputs_hidden": false
        },
        "nteract": {
          "transient": {
            "deleting": false
          }
        },
        "gather": {
          "logged": 1734372931366
        }
      },
      "id": "f878ad11-65ed-45b9-b38c-884fb6c20e46"
    },
    {
      "cell_type": "code",
      "source": [
        "pip install diffusers\n"
      ],
      "outputs": [
        {
          "output_type": "stream",
          "name": "stdout",
          "text": "Requirement already satisfied: diffusers in /anaconda/envs/azureml_py38_PT_TF/lib/python3.10/site-packages (0.31.0)\nRequirement already satisfied: importlib-metadata in /anaconda/envs/azureml_py38_PT_TF/lib/python3.10/site-packages (from diffusers) (8.4.0)\nRequirement already satisfied: filelock in /anaconda/envs/azureml_py38_PT_TF/lib/python3.10/site-packages (from diffusers) (3.16.1)\nRequirement already satisfied: huggingface-hub>=0.23.2 in /anaconda/envs/azureml_py38_PT_TF/lib/python3.10/site-packages (from diffusers) (0.26.5)\nRequirement already satisfied: numpy in /anaconda/envs/azureml_py38_PT_TF/lib/python3.10/site-packages (from diffusers) (1.23.5)\nRequirement already satisfied: regex!=2019.12.17 in /anaconda/envs/azureml_py38_PT_TF/lib/python3.10/site-packages (from diffusers) (2024.11.6)\nRequirement already satisfied: requests in /anaconda/envs/azureml_py38_PT_TF/lib/python3.10/site-packages (from diffusers) (2.32.3)\nRequirement already satisfied: safetensors>=0.3.1 in /anaconda/envs/azureml_py38_PT_TF/lib/python3.10/site-packages (from diffusers) (0.4.5)\nRequirement already satisfied: Pillow in /anaconda/envs/azureml_py38_PT_TF/lib/python3.10/site-packages (from diffusers) (10.4.0)\nRequirement already satisfied: fsspec>=2023.5.0 in /anaconda/envs/azureml_py38_PT_TF/lib/python3.10/site-packages (from huggingface-hub>=0.23.2->diffusers) (2024.9.0)\nRequirement already satisfied: packaging>=20.9 in /anaconda/envs/azureml_py38_PT_TF/lib/python3.10/site-packages (from huggingface-hub>=0.23.2->diffusers) (24.1)\nRequirement already satisfied: pyyaml>=5.1 in /anaconda/envs/azureml_py38_PT_TF/lib/python3.10/site-packages (from huggingface-hub>=0.23.2->diffusers) (6.0.2)\nRequirement already satisfied: tqdm>=4.42.1 in /anaconda/envs/azureml_py38_PT_TF/lib/python3.10/site-packages (from huggingface-hub>=0.23.2->diffusers) (4.66.5)\nRequirement already satisfied: typing-extensions>=3.7.4.3 in /anaconda/envs/azureml_py38_PT_TF/lib/python3.10/site-packages (from huggingface-hub>=0.23.2->diffusers) (4.12.2)\nRequirement already satisfied: zipp>=0.5 in /anaconda/envs/azureml_py38_PT_TF/lib/python3.10/site-packages (from importlib-metadata->diffusers) (3.20.2)\nRequirement already satisfied: charset-normalizer<4,>=2 in /anaconda/envs/azureml_py38_PT_TF/lib/python3.10/site-packages (from requests->diffusers) (3.3.2)\nRequirement already satisfied: idna<4,>=2.5 in /anaconda/envs/azureml_py38_PT_TF/lib/python3.10/site-packages (from requests->diffusers) (3.10)\nRequirement already satisfied: urllib3<3,>=1.21.1 in /anaconda/envs/azureml_py38_PT_TF/lib/python3.10/site-packages (from requests->diffusers) (2.2.3)\nRequirement already satisfied: certifi>=2017.4.17 in /anaconda/envs/azureml_py38_PT_TF/lib/python3.10/site-packages (from requests->diffusers) (2024.8.30)\nNote: you may need to restart the kernel to use updated packages.\n"
        }
      ],
      "execution_count": 16,
      "metadata": {
        "jupyter": {
          "source_hidden": false,
          "outputs_hidden": false
        },
        "nteract": {
          "transient": {
            "deleting": false
          }
        },
        "gather": {
          "logged": 1734372932669
        }
      },
      "id": "0bbddb14-9ec0-4e94-88e7-01c3f3903e27"
    },
    {
      "cell_type": "code",
      "source": [
        "pip install diffusers transformers accelerate torch torchvision"
      ],
      "outputs": [
        {
          "output_type": "stream",
          "name": "stdout",
          "text": "Requirement already satisfied: diffusers in /anaconda/envs/azureml_py38_PT_TF/lib/python3.10/site-packages (0.31.0)\nRequirement already satisfied: transformers in /anaconda/envs/azureml_py38_PT_TF/lib/python3.10/site-packages (4.47.0)\nRequirement already satisfied: accelerate in /anaconda/envs/azureml_py38_PT_TF/lib/python3.10/site-packages (1.2.1)\nRequirement already satisfied: torch in /anaconda/envs/azureml_py38_PT_TF/lib/python3.10/site-packages (2.4.1)\nRequirement already satisfied: torchvision in /anaconda/envs/azureml_py38_PT_TF/lib/python3.10/site-packages (0.19.1)\nRequirement already satisfied: importlib-metadata in /anaconda/envs/azureml_py38_PT_TF/lib/python3.10/site-packages (from diffusers) (8.4.0)\nRequirement already satisfied: filelock in /anaconda/envs/azureml_py38_PT_TF/lib/python3.10/site-packages (from diffusers) (3.16.1)\nRequirement already satisfied: huggingface-hub>=0.23.2 in /anaconda/envs/azureml_py38_PT_TF/lib/python3.10/site-packages (from diffusers) (0.26.5)\nRequirement already satisfied: numpy in /anaconda/envs/azureml_py38_PT_TF/lib/python3.10/site-packages (from diffusers) (1.23.5)\nRequirement already satisfied: regex!=2019.12.17 in /anaconda/envs/azureml_py38_PT_TF/lib/python3.10/site-packages (from diffusers) (2024.11.6)\nRequirement already satisfied: requests in /anaconda/envs/azureml_py38_PT_TF/lib/python3.10/site-packages (from diffusers) (2.32.3)\nRequirement already satisfied: safetensors>=0.3.1 in /anaconda/envs/azureml_py38_PT_TF/lib/python3.10/site-packages (from diffusers) (0.4.5)\nRequirement already satisfied: Pillow in /anaconda/envs/azureml_py38_PT_TF/lib/python3.10/site-packages (from diffusers) (10.4.0)\nRequirement already satisfied: packaging>=20.0 in /anaconda/envs/azureml_py38_PT_TF/lib/python3.10/site-packages (from transformers) (24.1)\nRequirement already satisfied: pyyaml>=5.1 in /anaconda/envs/azureml_py38_PT_TF/lib/python3.10/site-packages (from transformers) (6.0.2)\nRequirement already satisfied: tokenizers<0.22,>=0.21 in /anaconda/envs/azureml_py38_PT_TF/lib/python3.10/site-packages (from transformers) (0.21.0)\nRequirement already satisfied: tqdm>=4.27 in /anaconda/envs/azureml_py38_PT_TF/lib/python3.10/site-packages (from transformers) (4.66.5)\nRequirement already satisfied: psutil in /anaconda/envs/azureml_py38_PT_TF/lib/python3.10/site-packages (from accelerate) (6.0.0)\nRequirement already satisfied: typing-extensions>=4.8.0 in /anaconda/envs/azureml_py38_PT_TF/lib/python3.10/site-packages (from torch) (4.12.2)\nRequirement already satisfied: sympy in /anaconda/envs/azureml_py38_PT_TF/lib/python3.10/site-packages (from torch) (1.13.3)\nRequirement already satisfied: networkx in /anaconda/envs/azureml_py38_PT_TF/lib/python3.10/site-packages (from torch) (3.3)\nRequirement already satisfied: jinja2 in /anaconda/envs/azureml_py38_PT_TF/lib/python3.10/site-packages (from torch) (3.1.4)\nRequirement already satisfied: fsspec in /anaconda/envs/azureml_py38_PT_TF/lib/python3.10/site-packages (from torch) (2024.9.0)\nRequirement already satisfied: nvidia-cuda-nvrtc-cu12==12.1.105 in /anaconda/envs/azureml_py38_PT_TF/lib/python3.10/site-packages (from torch) (12.1.105)\nRequirement already satisfied: nvidia-cuda-runtime-cu12==12.1.105 in /anaconda/envs/azureml_py38_PT_TF/lib/python3.10/site-packages (from torch) (12.1.105)\nRequirement already satisfied: nvidia-cuda-cupti-cu12==12.1.105 in /anaconda/envs/azureml_py38_PT_TF/lib/python3.10/site-packages (from torch) (12.1.105)\nRequirement already satisfied: nvidia-cudnn-cu12==9.1.0.70 in /anaconda/envs/azureml_py38_PT_TF/lib/python3.10/site-packages (from torch) (9.1.0.70)\nRequirement already satisfied: nvidia-cublas-cu12==12.1.3.1 in /anaconda/envs/azureml_py38_PT_TF/lib/python3.10/site-packages (from torch) (12.1.3.1)\nRequirement already satisfied: nvidia-cufft-cu12==11.0.2.54 in /anaconda/envs/azureml_py38_PT_TF/lib/python3.10/site-packages (from torch) (11.0.2.54)\nRequirement already satisfied: nvidia-curand-cu12==10.3.2.106 in /anaconda/envs/azureml_py38_PT_TF/lib/python3.10/site-packages (from torch) (10.3.2.106)\nRequirement already satisfied: nvidia-cusolver-cu12==11.4.5.107 in /anaconda/envs/azureml_py38_PT_TF/lib/python3.10/site-packages (from torch) (11.4.5.107)\nRequirement already satisfied: nvidia-cusparse-cu12==12.1.0.106 in /anaconda/envs/azureml_py38_PT_TF/lib/python3.10/site-packages (from torch) (12.1.0.106)\nRequirement already satisfied: nvidia-nccl-cu12==2.20.5 in /anaconda/envs/azureml_py38_PT_TF/lib/python3.10/site-packages (from torch) (2.20.5)\nRequirement already satisfied: nvidia-nvtx-cu12==12.1.105 in /anaconda/envs/azureml_py38_PT_TF/lib/python3.10/site-packages (from torch) (12.1.105)\nRequirement already satisfied: triton==3.0.0 in /anaconda/envs/azureml_py38_PT_TF/lib/python3.10/site-packages (from torch) (3.0.0)\nRequirement already satisfied: nvidia-nvjitlink-cu12 in /anaconda/envs/azureml_py38_PT_TF/lib/python3.10/site-packages (from nvidia-cusolver-cu12==11.4.5.107->torch) (12.3.101)\nRequirement already satisfied: zipp>=0.5 in /anaconda/envs/azureml_py38_PT_TF/lib/python3.10/site-packages (from importlib-metadata->diffusers) (3.20.2)\nRequirement already satisfied: MarkupSafe>=2.0 in /anaconda/envs/azureml_py38_PT_TF/lib/python3.10/site-packages (from jinja2->torch) (2.1.5)\nRequirement already satisfied: charset-normalizer<4,>=2 in /anaconda/envs/azureml_py38_PT_TF/lib/python3.10/site-packages (from requests->diffusers) (3.3.2)\nRequirement already satisfied: idna<4,>=2.5 in /anaconda/envs/azureml_py38_PT_TF/lib/python3.10/site-packages (from requests->diffusers) (3.10)\nRequirement already satisfied: urllib3<3,>=1.21.1 in /anaconda/envs/azureml_py38_PT_TF/lib/python3.10/site-packages (from requests->diffusers) (2.2.3)\nRequirement already satisfied: certifi>=2017.4.17 in /anaconda/envs/azureml_py38_PT_TF/lib/python3.10/site-packages (from requests->diffusers) (2024.8.30)\nRequirement already satisfied: mpmath<1.4,>=1.1.0 in /anaconda/envs/azureml_py38_PT_TF/lib/python3.10/site-packages (from sympy->torch) (1.3.0)\nNote: you may need to restart the kernel to use updated packages.\n"
        }
      ],
      "execution_count": 17,
      "metadata": {
        "jupyter": {
          "source_hidden": false,
          "outputs_hidden": false
        },
        "nteract": {
          "transient": {
            "deleting": false
          }
        },
        "gather": {
          "logged": 1734372934058
        }
      },
      "id": "cd7be882-0f9a-437b-a2ce-828056cb2bea"
    },
    {
      "cell_type": "code",
      "source": [
        "from diffusers import UNet2DConditionModel, AutoencoderKL, DDPMScheduler\n",
        "from transformers import CLIPTextModel, CLIPTokenizer\n",
        "from torch.optim import AdamW\n",
        "from accelerate import Accelerator\n",
        "import torch"
      ],
      "outputs": [
        {
          "output_type": "stream",
          "name": "stderr",
          "text": "2024-12-16 18:15:43.405501: I tensorflow/core/util/port.cc:153] oneDNN custom operations are on. You may see slightly different numerical results due to floating-point round-off errors from different computation orders. To turn them off, set the environment variable `TF_ENABLE_ONEDNN_OPTS=0`.\n2024-12-16 18:15:46.210773: E external/local_xla/xla/stream_executor/cuda/cuda_fft.cc:485] Unable to register cuFFT factory: Attempting to register factory for plugin cuFFT when one has already been registered\n2024-12-16 18:15:47.063844: E external/local_xla/xla/stream_executor/cuda/cuda_dnn.cc:8454] Unable to register cuDNN factory: Attempting to register factory for plugin cuDNN when one has already been registered\n2024-12-16 18:15:47.307295: E external/local_xla/xla/stream_executor/cuda/cuda_blas.cc:1452] Unable to register cuBLAS factory: Attempting to register factory for plugin cuBLAS when one has already been registered\n2024-12-16 18:15:49.259851: I tensorflow/core/platform/cpu_feature_guard.cc:210] This TensorFlow binary is optimized to use available CPU instructions in performance-critical operations.\nTo enable the following instructions: AVX2 AVX512F AVX512_VNNI FMA, in other operations, rebuild TensorFlow with the appropriate compiler flags.\n2024-12-16 18:15:53.643606: W tensorflow/compiler/tf2tensorrt/utils/py_utils.cc:38] TF-TRT Warning: Could not find TensorRT\n"
        }
      ],
      "execution_count": 18,
      "metadata": {
        "jupyter": {
          "source_hidden": false,
          "outputs_hidden": false
        },
        "nteract": {
          "transient": {
            "deleting": false
          }
        },
        "gather": {
          "logged": 1734372961607
        }
      },
      "id": "00c8937a-35ab-4e40-b370-d170e67e6f7e"
    },
    {
      "cell_type": "code",
      "source": [
        "\n",
        "# Step 1: Prepare Dataset\n",
        "# Define paths\n",
        "input_path = \"/mnt/batch/tasks/shared/LS_root/mounts/clusters/execinstance/code/Users/1155143473/Human Image Generation with Animal Features/my_dataset/images\"\n",
        "image_dir = \"/mnt/batch/tasks/shared/LS_root/mounts/clusters/execinstance/code/Users/1155143473/Human Image Generation with Animal Features/my_dataset/preprocessed_images\"\n",
        "caption_file = \"/mnt/batch/tasks/shared/LS_root/mounts/clusters/execinstance/code/Users/1155143473/Human Image Generation with Animal Features/my_dataset/captions.txt\"\n",
        "\n",
        "# Load captions\n",
        "data = []\n",
        "with open(caption_file, \"r\") as f:\n",
        "    for line in f:\n",
        "        image_name, caption = line.strip().split(\"   \")  # Assuming '   ' separates filename and caption\n",
        "        image_path = os.path.join(image_dir, image_name)\n",
        "        if os.path.exists(image_path):\n",
        "            data.append({\"image\": image_path, \"text\": caption})\n",
        "\n",
        "# Create Hugging Face Dataset\n",
        "ds = Dataset.from_dict({\n",
        "    \"image\": [item[\"image\"] for item in data],\n",
        "    \"text\": [item[\"text\"] for item in data],\n",
        "})\n",
        "\n",
        "# Preprocess images\n",
        "def preprocess_images(sample):\n",
        "    image = Image.open(sample[\"image\"]).convert(\"RGB\")\n",
        "    image = image.resize((512, 512))  # Resize to 512x512 for Stable Diffusion XL\n",
        "    sample[\"image\"] = np.array(image)\n",
        "    return sample\n",
        "\n",
        "ds = ds.map(preprocess_images, batched=False)\n",
        "\n",
        "\n",
        "\n",
        "\n"
      ],
      "outputs": [
        {
          "output_type": "display_data",
          "data": {
            "text/plain": "Map:   0%|          | 0/27 [00:00<?, ? examples/s]",
            "application/vnd.jupyter.widget-view+json": {
              "version_major": 2,
              "version_minor": 0,
              "model_id": "02c98b9b6f0d43d4bdf0e767567797bc"
            }
          },
          "metadata": {}
        }
      ],
      "execution_count": 27,
      "metadata": {
        "jupyter": {
          "source_hidden": false,
          "outputs_hidden": false
        },
        "nteract": {
          "transient": {
            "deleting": false
          }
        },
        "gather": {
          "logged": 1734373110389
        }
      },
      "id": "d068b00b-9999-426b-978e-fecc07e47af2"
    },
    {
      "cell_type": "code",
      "source": [
        "\n",
        "# Step 2: Define Training Parameters\n",
        "model_id = \"stabilityai/stable-diffusion-xl-base-1.0\"\n",
        "num_epochs = 3\n",
        "train_batch_size = 4\n",
        "learning_rate = 5e-6\n",
        "gradient_accumulation_steps = 2\n",
        "device = \"cuda\" if torch.cuda.is_available() else \"cpu\"\n",
        "\n",
        "# Load Stable Diffusion XL Components\n",
        "unet = UNet2DConditionModel.from_pretrained(model_id, subfolder=\"unet\").to(device)\n",
        "vae = AutoencoderKL.from_pretrained(model_id, subfolder=\"vae\").to(device)\n",
        "text_encoder = CLIPTextModel.from_pretrained(model_id, subfolder=\"text_encoder\").to(device)\n",
        "tokenizer = CLIPTokenizer.from_pretrained(model_id, subfolder=\"tokenizer\")\n",
        "noise_scheduler = DDPMScheduler.from_pretrained(model_id, subfolder=\"scheduler\")\n"
      ],
      "outputs": [],
      "execution_count": 36,
      "metadata": {
        "jupyter": {
          "source_hidden": false,
          "outputs_hidden": false
        },
        "nteract": {
          "transient": {
            "deleting": false
          }
        },
        "gather": {
          "logged": 1734373663640
        }
      },
      "id": "e1b9c236-f38d-46e3-993f-74c5827870bc"
    },
    {
      "cell_type": "code",
      "source": [
        "# Step 3: Prepare DataLoader\n",
        "def collate_fn(batch):\n",
        "    images = torch.tensor([item[\"image\"] for item in batch]).permute(0, 3, 1, 2) / 255.0  # Normalize\n",
        "    captions = [item[\"text\"] for item in batch]\n",
        "    return {\"images\": images.to(device), \"captions\": captions}\n",
        "\n",
        "dataloader = DataLoader(ds, batch_size=train_batch_size, shuffle=True, collate_fn=collate_fn)\n",
        "\n",
        "# Step 4: Set Up Optimizer and Accelerator\n",
        "optimizer = AdamW(unet.parameters(), lr=learning_rate)\n",
        "accelerator = Accelerator(mixed_precision=\"fp16\")\n",
        "unet, optimizer, dataloader = accelerator.prepare(unet, optimizer, dataloader)\n"
      ],
      "outputs": [],
      "execution_count": 37,
      "metadata": {
        "jupyter": {
          "source_hidden": false,
          "outputs_hidden": false
        },
        "nteract": {
          "transient": {
            "deleting": false
          }
        },
        "gather": {
          "logged": 1734373669551
        }
      },
      "id": "c006bcb2-3635-4abe-9173-6a691e64caa3"
    },
    {
      "cell_type": "code",
      "source": [
        "import torch\n",
        "import torch.nn as nn\n",
        "\n",
        "# Step 5: Training Loop\n",
        "for epoch in range(num_epochs):\n",
        "    unet.train()\n",
        "    for step, batch in enumerate(dataloader):\n",
        "        images = batch[\"images\"].to(device)\n",
        "        captions = batch[\"captions\"]\n",
        "\n",
        "        # Tokenize captions\n",
        "        inputs = tokenizer(captions, padding=\"max_length\", truncation=True, max_length=77, return_tensors=\"pt\").to(device)\n",
        "        encoder_hidden_states = text_encoder(inputs.input_ids)[0]  # Shape: (batch_size, seq_len, embedding_dim)\n",
        "\n",
        "        # Add noise to images\n",
        "        noise = torch.randn_like(images).to(device)  # Same shape as images\n",
        "        timesteps = torch.randint(0, noise_scheduler.config.num_train_timesteps, (images.shape[0],), device=device).long()\n",
        "        noisy_images = noise_scheduler.add_noise(images, noise, timesteps)\n",
        "\n",
        "        # Use a time embedding layer to embed timesteps\n",
        "        time_embedding_dim = encoder_hidden_states.shape[-1]  # This should match the embedding dimension of the text encoder\n",
        "        time_embedder = nn.Embedding(noise_scheduler.config.num_train_timesteps, time_embedding_dim).to(device)\n",
        "\n",
        "        # Lookup the time embeddings for the timesteps\n",
        "        time_embeds = time_embedder(timesteps)  # Shape: (batch_size, embedding_dim)\n",
        "\n",
        "        # Expand time_embeds to match the sequence length of encoder_hidden_states\n",
        "        time_embeds = time_embeds.unsqueeze(1).expand(-1, encoder_hidden_states.shape[1], -1)  # Shape: (batch_size, seq_len, embedding_dim)\n",
        "\n",
        "        # Concatenate text_embeds and time_embeds along the last dimension\n",
        "        # This will create a tensor of shape (batch_size, seq_len, 2 * embedding_dim)\n",
        "        combined_embeds = torch.cat([encoder_hidden_states, time_embeds], dim=-1)  # Shape: (batch_size, seq_len, 2 * embedding_dim)\n",
        "\n",
        "        # Prepare additional conditioning kwargs\n",
        "        added_cond_kwargs = {\n",
        "            \"text_embeds\": combined_embeds,\n",
        "            \"time_ids\": timesteps  # Add time_ids to conditioning kwargs\n",
        "        }\n",
        "\n",
        "        # Predict noise\n",
        "        noise_pred = unet(noisy_images, timesteps, encoder_hidden_states, added_cond_kwargs=added_cond_kwargs).sample()  # Ensure the call is correct\n",
        "\n",
        "        # Compute loss\n",
        "        loss = torch.nn.functional.mse_loss(noise_pred, noise)\n",
        "        accelerator.backward(loss)  # Using accelerator for backward pass\n",
        "        \n",
        "        # Optimizer step\n",
        "        if (step + 1) % gradient_accumulation_steps == 0:\n",
        "            optimizer.step()\n",
        "            optimizer.zero_grad()\n",
        "\n",
        "        # Log progress\n",
        "        if step % 10 == 0:\n",
        "            print(f\"Epoch {epoch}, Step {step}, Loss: {loss.item()}\")\n",
        "\n",
        "# Step 6: Save Fine-Tuned Model\n",
        "unet.save_pretrained(\"/mnt/batch/tasks/shared/LS_root/mounts/clusters/execinstance/code/Users/1155143473/Human Image Generation with Animal Features/model/stable-diffusion-xl-finetuned/unet\")\n",
        "text_encoder.save_pretrained(\"/mnt/batch/tasks/shared/LS_root/mounts/clusters/execinstance/code/Users/1155143473/Human Image Generation with Animal Features/model/stable-diffusion-xl-finetuned/text_encoder\")\n"
      ],
      "outputs": [
        {
          "output_type": "error",
          "ename": "RuntimeError",
          "evalue": "Tensors must have same number of dimensions: got 3 and 2",
          "traceback": [
            "\u001b[0;31m---------------------------------------------------------------------------\u001b[0m",
            "\u001b[0;31mRuntimeError\u001b[0m                              Traceback (most recent call last)",
            "Cell \u001b[0;32mIn[49], line 41\u001b[0m\n\u001b[1;32m     35\u001b[0m added_cond_kwargs \u001b[38;5;241m=\u001b[39m {\n\u001b[1;32m     36\u001b[0m     \u001b[38;5;124m\"\u001b[39m\u001b[38;5;124mtext_embeds\u001b[39m\u001b[38;5;124m\"\u001b[39m: combined_embeds,\n\u001b[1;32m     37\u001b[0m     \u001b[38;5;124m\"\u001b[39m\u001b[38;5;124mtime_ids\u001b[39m\u001b[38;5;124m\"\u001b[39m: timesteps  \u001b[38;5;66;03m# Add time_ids to conditioning kwargs\u001b[39;00m\n\u001b[1;32m     38\u001b[0m }\n\u001b[1;32m     40\u001b[0m \u001b[38;5;66;03m# Predict noise\u001b[39;00m\n\u001b[0;32m---> 41\u001b[0m noise_pred \u001b[38;5;241m=\u001b[39m \u001b[43munet\u001b[49m\u001b[43m(\u001b[49m\u001b[43mnoisy_images\u001b[49m\u001b[43m,\u001b[49m\u001b[43m \u001b[49m\u001b[43mtimesteps\u001b[49m\u001b[43m,\u001b[49m\u001b[43m \u001b[49m\u001b[43mencoder_hidden_states\u001b[49m\u001b[43m,\u001b[49m\u001b[43m \u001b[49m\u001b[43madded_cond_kwargs\u001b[49m\u001b[38;5;241;43m=\u001b[39;49m\u001b[43madded_cond_kwargs\u001b[49m\u001b[43m)\u001b[49m\u001b[38;5;241m.\u001b[39msample()  \u001b[38;5;66;03m# Ensure the call is correct\u001b[39;00m\n\u001b[1;32m     43\u001b[0m \u001b[38;5;66;03m# Compute loss\u001b[39;00m\n\u001b[1;32m     44\u001b[0m loss \u001b[38;5;241m=\u001b[39m torch\u001b[38;5;241m.\u001b[39mnn\u001b[38;5;241m.\u001b[39mfunctional\u001b[38;5;241m.\u001b[39mmse_loss(noise_pred, noise)\n",
            "File \u001b[0;32m/anaconda/envs/azureml_py38_PT_TF/lib/python3.10/site-packages/torch/nn/modules/module.py:1553\u001b[0m, in \u001b[0;36mModule._wrapped_call_impl\u001b[0;34m(self, *args, **kwargs)\u001b[0m\n\u001b[1;32m   1551\u001b[0m     \u001b[38;5;28;01mreturn\u001b[39;00m \u001b[38;5;28mself\u001b[39m\u001b[38;5;241m.\u001b[39m_compiled_call_impl(\u001b[38;5;241m*\u001b[39margs, \u001b[38;5;241m*\u001b[39m\u001b[38;5;241m*\u001b[39mkwargs)  \u001b[38;5;66;03m# type: ignore[misc]\u001b[39;00m\n\u001b[1;32m   1552\u001b[0m \u001b[38;5;28;01melse\u001b[39;00m:\n\u001b[0;32m-> 1553\u001b[0m     \u001b[38;5;28;01mreturn\u001b[39;00m \u001b[38;5;28;43mself\u001b[39;49m\u001b[38;5;241;43m.\u001b[39;49m\u001b[43m_call_impl\u001b[49m\u001b[43m(\u001b[49m\u001b[38;5;241;43m*\u001b[39;49m\u001b[43margs\u001b[49m\u001b[43m,\u001b[49m\u001b[43m \u001b[49m\u001b[38;5;241;43m*\u001b[39;49m\u001b[38;5;241;43m*\u001b[39;49m\u001b[43mkwargs\u001b[49m\u001b[43m)\u001b[49m\n",
            "File \u001b[0;32m/anaconda/envs/azureml_py38_PT_TF/lib/python3.10/site-packages/torch/nn/modules/module.py:1562\u001b[0m, in \u001b[0;36mModule._call_impl\u001b[0;34m(self, *args, **kwargs)\u001b[0m\n\u001b[1;32m   1557\u001b[0m \u001b[38;5;66;03m# If we don't have any hooks, we want to skip the rest of the logic in\u001b[39;00m\n\u001b[1;32m   1558\u001b[0m \u001b[38;5;66;03m# this function, and just call forward.\u001b[39;00m\n\u001b[1;32m   1559\u001b[0m \u001b[38;5;28;01mif\u001b[39;00m \u001b[38;5;129;01mnot\u001b[39;00m (\u001b[38;5;28mself\u001b[39m\u001b[38;5;241m.\u001b[39m_backward_hooks \u001b[38;5;129;01mor\u001b[39;00m \u001b[38;5;28mself\u001b[39m\u001b[38;5;241m.\u001b[39m_backward_pre_hooks \u001b[38;5;129;01mor\u001b[39;00m \u001b[38;5;28mself\u001b[39m\u001b[38;5;241m.\u001b[39m_forward_hooks \u001b[38;5;129;01mor\u001b[39;00m \u001b[38;5;28mself\u001b[39m\u001b[38;5;241m.\u001b[39m_forward_pre_hooks\n\u001b[1;32m   1560\u001b[0m         \u001b[38;5;129;01mor\u001b[39;00m _global_backward_pre_hooks \u001b[38;5;129;01mor\u001b[39;00m _global_backward_hooks\n\u001b[1;32m   1561\u001b[0m         \u001b[38;5;129;01mor\u001b[39;00m _global_forward_hooks \u001b[38;5;129;01mor\u001b[39;00m _global_forward_pre_hooks):\n\u001b[0;32m-> 1562\u001b[0m     \u001b[38;5;28;01mreturn\u001b[39;00m \u001b[43mforward_call\u001b[49m\u001b[43m(\u001b[49m\u001b[38;5;241;43m*\u001b[39;49m\u001b[43margs\u001b[49m\u001b[43m,\u001b[49m\u001b[43m \u001b[49m\u001b[38;5;241;43m*\u001b[39;49m\u001b[38;5;241;43m*\u001b[39;49m\u001b[43mkwargs\u001b[49m\u001b[43m)\u001b[49m\n\u001b[1;32m   1564\u001b[0m \u001b[38;5;28;01mtry\u001b[39;00m:\n\u001b[1;32m   1565\u001b[0m     result \u001b[38;5;241m=\u001b[39m \u001b[38;5;28;01mNone\u001b[39;00m\n",
            "File \u001b[0;32m/anaconda/envs/azureml_py38_PT_TF/lib/python3.10/site-packages/diffusers/models/unets/unet_2d_condition.py:1152\u001b[0m, in \u001b[0;36mUNet2DConditionModel.forward\u001b[0;34m(self, sample, timestep, encoder_hidden_states, class_labels, timestep_cond, attention_mask, cross_attention_kwargs, added_cond_kwargs, down_block_additional_residuals, mid_block_additional_residual, down_intrablock_additional_residuals, encoder_attention_mask, return_dict)\u001b[0m\n\u001b[1;32m   1149\u001b[0m     \u001b[38;5;28;01melse\u001b[39;00m:\n\u001b[1;32m   1150\u001b[0m         emb \u001b[38;5;241m=\u001b[39m emb \u001b[38;5;241m+\u001b[39m class_emb\n\u001b[0;32m-> 1152\u001b[0m aug_emb \u001b[38;5;241m=\u001b[39m \u001b[38;5;28;43mself\u001b[39;49m\u001b[38;5;241;43m.\u001b[39;49m\u001b[43mget_aug_embed\u001b[49m\u001b[43m(\u001b[49m\n\u001b[1;32m   1153\u001b[0m \u001b[43m    \u001b[49m\u001b[43memb\u001b[49m\u001b[38;5;241;43m=\u001b[39;49m\u001b[43memb\u001b[49m\u001b[43m,\u001b[49m\u001b[43m \u001b[49m\u001b[43mencoder_hidden_states\u001b[49m\u001b[38;5;241;43m=\u001b[39;49m\u001b[43mencoder_hidden_states\u001b[49m\u001b[43m,\u001b[49m\u001b[43m \u001b[49m\u001b[43madded_cond_kwargs\u001b[49m\u001b[38;5;241;43m=\u001b[39;49m\u001b[43madded_cond_kwargs\u001b[49m\n\u001b[1;32m   1154\u001b[0m \u001b[43m\u001b[49m\u001b[43m)\u001b[49m\n\u001b[1;32m   1155\u001b[0m \u001b[38;5;28;01mif\u001b[39;00m \u001b[38;5;28mself\u001b[39m\u001b[38;5;241m.\u001b[39mconfig\u001b[38;5;241m.\u001b[39maddition_embed_type \u001b[38;5;241m==\u001b[39m \u001b[38;5;124m\"\u001b[39m\u001b[38;5;124mimage_hint\u001b[39m\u001b[38;5;124m\"\u001b[39m:\n\u001b[1;32m   1156\u001b[0m     aug_emb, hint \u001b[38;5;241m=\u001b[39m aug_emb\n",
            "File \u001b[0;32m/anaconda/envs/azureml_py38_PT_TF/lib/python3.10/site-packages/diffusers/models/unets/unet_2d_condition.py:982\u001b[0m, in \u001b[0;36mUNet2DConditionModel.get_aug_embed\u001b[0;34m(self, emb, encoder_hidden_states, added_cond_kwargs)\u001b[0m\n\u001b[1;32m    980\u001b[0m time_embeds \u001b[38;5;241m=\u001b[39m \u001b[38;5;28mself\u001b[39m\u001b[38;5;241m.\u001b[39madd_time_proj(time_ids\u001b[38;5;241m.\u001b[39mflatten())\n\u001b[1;32m    981\u001b[0m time_embeds \u001b[38;5;241m=\u001b[39m time_embeds\u001b[38;5;241m.\u001b[39mreshape((text_embeds\u001b[38;5;241m.\u001b[39mshape[\u001b[38;5;241m0\u001b[39m], \u001b[38;5;241m-\u001b[39m\u001b[38;5;241m1\u001b[39m))\n\u001b[0;32m--> 982\u001b[0m add_embeds \u001b[38;5;241m=\u001b[39m \u001b[43mtorch\u001b[49m\u001b[38;5;241;43m.\u001b[39;49m\u001b[43mconcat\u001b[49m\u001b[43m(\u001b[49m\u001b[43m[\u001b[49m\u001b[43mtext_embeds\u001b[49m\u001b[43m,\u001b[49m\u001b[43m \u001b[49m\u001b[43mtime_embeds\u001b[49m\u001b[43m]\u001b[49m\u001b[43m,\u001b[49m\u001b[43m \u001b[49m\u001b[43mdim\u001b[49m\u001b[38;5;241;43m=\u001b[39;49m\u001b[38;5;241;43m-\u001b[39;49m\u001b[38;5;241;43m1\u001b[39;49m\u001b[43m)\u001b[49m\n\u001b[1;32m    983\u001b[0m add_embeds \u001b[38;5;241m=\u001b[39m add_embeds\u001b[38;5;241m.\u001b[39mto(emb\u001b[38;5;241m.\u001b[39mdtype)\n\u001b[1;32m    984\u001b[0m aug_emb \u001b[38;5;241m=\u001b[39m \u001b[38;5;28mself\u001b[39m\u001b[38;5;241m.\u001b[39madd_embedding(add_embeds)\n",
            "\u001b[0;31mRuntimeError\u001b[0m: Tensors must have same number of dimensions: got 3 and 2"
          ]
        }
      ],
      "execution_count": 49,
      "metadata": {
        "jupyter": {
          "source_hidden": false,
          "outputs_hidden": false
        },
        "nteract": {
          "transient": {
            "deleting": false
          }
        },
        "gather": {
          "logged": 1734376855560
        }
      },
      "id": "f529953e-c607-4ca8-85af-df3d5c6f40e5"
    }
  ],
  "metadata": {
    "kernelspec": {
      "name": "python38-azureml-pt-tf",
      "language": "python",
      "display_name": "Python 3.8 - Pytorch and Tensorflow"
    },
    "language_info": {
      "name": "python",
      "version": "3.10.14",
      "mimetype": "text/x-python",
      "codemirror_mode": {
        "name": "ipython",
        "version": 3
      },
      "pygments_lexer": "ipython3",
      "nbconvert_exporter": "python",
      "file_extension": ".py"
    },
    "microsoft": {
      "ms_spell_check": {
        "ms_spell_check_language": "fr"
      },
      "host": {
        "AzureML": {
          "notebookHasBeenCompleted": true
        }
      }
    },
    "nteract": {
      "version": "nteract-front-end@1.0.0"
    },
    "kernel_info": {
      "name": "python38-azureml-pt-tf"
    }
  },
  "nbformat": 4,
  "nbformat_minor": 5
}